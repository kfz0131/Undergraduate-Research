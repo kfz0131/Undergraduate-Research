{
 "cells": [
  {
   "cell_type": "code",
   "execution_count": 1,
   "metadata": {
    "collapsed": true
   },
   "outputs": [],
   "source": [
    "import nltk\n",
    "#nltk.download('punkt')\n",
    "from nltk.tokenize import sent_tokenize, word_tokenize\n",
    "from nltk.corpus import stopwords\n",
    "from nltk.stem import PorterStemmer\n",
    "from nltk.corpus import reuters\n",
    "import pandas as pd\n",
    "from sklearn.feature_extraction.text import TfidfVectorizer\n",
    "import collections as cl\n",
    "from nltk.util import ngrams\n",
    "import scipy.sparse as sp\n",
    "import re\n",
    "import pprint\n",
    "pp = pprint.PrettyPrinter(indent=2, depth=2, width=80, compact=True)\n",
    "from nltk.collocations import BigramCollocationFinder, BigramAssocMeasures\n",
    "from nltk.collocations import TrigramAssocMeasures, TrigramCollocationFinder"
   ]
  },
  {
   "cell_type": "code",
   "execution_count": 2,
   "metadata": {
    "collapsed": false
   },
   "outputs": [
    {
     "data": {
      "text/plain": [
       "'test/14826'"
      ]
     },
     "execution_count": 2,
     "metadata": {},
     "output_type": "execute_result"
    }
   ],
   "source": [
    "reuters.fileids()[0]"
   ]
  },
  {
   "cell_type": "code",
   "execution_count": 3,
   "metadata": {
    "collapsed": true
   },
   "outputs": [],
   "source": [
    "text = reuters.raw('test/14828')"
   ]
  },
  {
   "cell_type": "code",
   "execution_count": 4,
   "metadata": {
    "collapsed": false
   },
   "outputs": [
    {
     "name": "stdout",
     "output_type": "stream",
     "text": [
      "CHINA DAILY SAYS VERMIN EAT 7-12 PCT GRAIN STOCKS\n",
      "  A survey of 19 provinces and seven cities\n",
      "  showed vermin consume between seven and 12 pct of China's grain\n",
      "  stocks, the China Daily said.\n",
      "      It also said that each year 1.575 mln tonnes, or 25 pct, of\n",
      "  China's fruit output are left to rot, and 2.1 mln tonnes, or up\n",
      "  to 30 pct, of its vegetables. The paper blamed the waste on\n",
      "  inadequate storage and bad preservation methods.\n",
      "      It said the government had launched a national programme to\n",
      "  reduce waste, calling for improved technology in storage and\n",
      "  preservation, and greater production of additives. The paper\n",
      "  gave no further details.\n",
      "  \n",
      "\n",
      "\n"
     ]
    }
   ],
   "source": [
    "print(text)"
   ]
  },
  {
   "cell_type": "markdown",
   "metadata": {},
   "source": [
    "# Unigram"
   ]
  },
  {
   "cell_type": "code",
   "execution_count": 5,
   "metadata": {
    "collapsed": false
   },
   "outputs": [
    {
     "name": "stdout",
     "output_type": "stream",
     "text": [
      "['CHINA', 'DAILY', 'SAYS', 'VERMIN', 'EAT', '7-12', 'PCT', 'GRAIN', 'STOCKS', 'A', 'survey', 'of', '19', 'provinces', 'and', 'seven', 'cities', 'showed', 'vermin', 'consume', 'between', 'seven', 'and', '12', 'pct', 'of', 'China', \"'s\", 'grain', 'stocks', ',', 'the', 'China', 'Daily', 'said', '.', 'It', 'also', 'said', 'that', 'each', 'year', '1.575', 'mln', 'tonnes', ',', 'or', '25', 'pct', ',', 'of', 'China', \"'s\", 'fruit', 'output', 'are', 'left', 'to', 'rot', ',', 'and', '2.1', 'mln', 'tonnes', ',', 'or', 'up', 'to', '30', 'pct', ',', 'of', 'its', 'vegetables', '.', 'The', 'paper', 'blamed', 'the', 'waste', 'on', 'inadequate', 'storage', 'and', 'bad', 'preservation', 'methods', '.', 'It', 'said', 'the', 'government', 'had', 'launched', 'a', 'national', 'programme', 'to', 'reduce', 'waste', ',', 'calling', 'for', 'improved', 'technology', 'in', 'storage', 'and', 'preservation', ',', 'and', 'greater', 'production', 'of', 'additives', '.', 'The', 'paper', 'gave', 'no', 'further', 'details', '.']\n"
     ]
    }
   ],
   "source": [
    "from nltk.util import ngrams\n",
    "# Unigram\n",
    "unigram = word_tokenize(text)\n",
    "print(unigram)"
   ]
  },
  {
   "cell_type": "code",
   "execution_count": 52,
   "metadata": {
    "collapsed": false
   },
   "outputs": [],
   "source": [
    "# Import stopwords\n",
    "# from nltk.corpus import stopwords\n",
    "# # Store a list of stop words in english language\n",
    "# stop_words = set(stopwords.words('english'))\n",
    "# print(stop_words)\n",
    "# # Create an empty list\n",
    "# no_stopwords_unigram = []\n",
    "# # Remove stop words from head lines and store the rest of words in the list\n",
    "# for w in unigram:\n",
    "#     if w not in stop_words:\n",
    "#         no_stopwords_unigram.append(w)\n",
    "# print(no_stopwords_unigram)"
   ]
  },
  {
   "cell_type": "code",
   "execution_count": 155,
   "metadata": {
    "collapsed": false
   },
   "outputs": [
    {
     "data": {
      "text/plain": [
       "\"CHINA DAILY SAYS VERMIN EAT 7-12 PCT GRAIN STOCKS\\n  A survey of 19 provinces and seven cities\\n  showed vermin consume between seven and 12 pct of China's grain\\n  stocks, the China Daily said.\\n      It also said that each year 1.575 mln tonnes, or 25 pct, of\\n  China's fruit output are left to rot, and 2.1 mln tonnes, or up\\n  to 30 pct, of its vegetables. The paper blamed the waste on\\n  inadequate storage and bad preservation methods.\\n      It said the government had launched a national programme to\\n  reduce waste, calling for improved technology in storage and\\n  preservation, and greater production of additives. The paper\\n  gave no further details.\\n  \\n\\n\""
      ]
     },
     "execution_count": 155,
     "metadata": {},
     "output_type": "execute_result"
    }
   ],
   "source": [
    "text"
   ]
  },
  {
   "cell_type": "code",
   "execution_count": 157,
   "metadata": {
    "collapsed": false
   },
   "outputs": [
    {
     "data": {
      "text/plain": [
       "'CHINA DAILY SAYS VERMIN EAT 7 12 PCT GRAIN STOCKS\\n  A survey of 19 provinces and seven cities\\n  showed vermin consume between seven and 12 pct of China s grain\\n  stocks  the China Daily said \\n      It also said that each year 1 575 mln tonnes  or 25 pct  of\\n  China s fruit output are left to rot  and 2 1 mln tonnes  or up\\n  to 30 pct  of its vegetables  The paper blamed the waste on\\n  inadequate storage and bad preservation methods \\n      It said the government had launched a national programme to\\n  reduce waste  calling for improved technology in storage and\\n  preservation  and greater production of additives  The paper\\n  gave no further details \\n  \\n\\n'"
      ]
     },
     "execution_count": 157,
     "metadata": {},
     "output_type": "execute_result"
    }
   ],
   "source": [
    "re.sub(remove_punctuation_pattern, ' ', text)"
   ]
  },
  {
   "cell_type": "code",
   "execution_count": 8,
   "metadata": {
    "collapsed": false
   },
   "outputs": [],
   "source": [
    "# remove_punctuation_pattern = re.compile(r'[^\\w\\s]')\n",
    "# # Specify a RE to parse a text document\n",
    "# testunigram = [word.lower() for word in nltk.word_tokenize(re.sub(remove_punctuation_pattern, ' ', text))]\n",
    "# counts = nltk.FreqDist(testunigram)\n",
    "# print(counts.most_common(None))"
   ]
  },
  {
   "cell_type": "code",
   "execution_count": 6,
   "metadata": {
    "collapsed": false
   },
   "outputs": [
    {
     "name": "stdout",
     "output_type": "stream",
     "text": [
      "[(',', 8), ('and', 6), ('of', 5), ('.', 5), ('pct', 3), ('the', 3), ('China', 3), ('said', 3), ('to', 3), ('paper', 2), (\"'s\", 2), ('It', 2), ('seven', 2), ('The', 2), ('waste', 2), ('mln', 2), ('tonnes', 2), ('or', 2), ('preservation', 2), ('storage', 2), ('on', 1), ('blamed', 1), ('no', 1), ('between', 1), ('consume', 1), ('rot', 1), ('for', 1), ('left', 1), ('19', 1), ('30', 1), ('greater', 1), ('vermin', 1), ('grain', 1), ('STOCKS', 1), ('survey', 1), ('gave', 1), ('its', 1), ('in', 1), ('stocks', 1), ('showed', 1), ('each', 1), ('SAYS', 1), ('2.1', 1), ('national', 1), ('7-12', 1), ('year', 1), ('calling', 1), ('production', 1), ('A', 1), ('launched', 1), ('EAT', 1), ('that', 1), ('vegetables', 1), ('cities', 1), ('methods', 1), ('government', 1), ('CHINA', 1), ('DAILY', 1), ('PCT', 1), ('12', 1), ('a', 1), ('fruit', 1), ('reduce', 1), ('improved', 1), ('25', 1), ('up', 1), ('are', 1), ('programme', 1), ('further', 1), ('technology', 1), ('additives', 1), ('1.575', 1), ('inadequate', 1), ('had', 1), ('bad', 1), ('also', 1), ('VERMIN', 1), ('GRAIN', 1), ('provinces', 1), ('output', 1), ('details', 1), ('Daily', 1)]\n"
     ]
    }
   ],
   "source": [
    "import collections as cl\n",
    "# Count\n",
    "counter = cl.Counter(unigram)\n",
    "print(counter.most_common(None))"
   ]
  },
  {
   "cell_type": "code",
   "execution_count": 7,
   "metadata": {
    "collapsed": false
   },
   "outputs": [
    {
     "name": "stdout",
     "output_type": "stream",
     "text": [
      "Term        : Frequency\n",
      "-------------------------\n",
      ",           : 0.065\n",
      "and         : 0.049\n",
      "of          : 0.041\n",
      ".           : 0.041\n",
      "pct         : 0.024\n",
      "the         : 0.024\n",
      "China       : 0.024\n",
      "said        : 0.024\n",
      "to          : 0.024\n",
      "paper       : 0.016\n",
      "'s          : 0.016\n",
      "It          : 0.016\n",
      "seven       : 0.016\n",
      "The         : 0.016\n",
      "waste       : 0.016\n",
      "mln         : 0.016\n",
      "tonnes      : 0.016\n",
      "or          : 0.016\n",
      "preservation: 0.016\n",
      "storage     : 0.016\n",
      "on          : 0.008\n",
      "blamed      : 0.008\n",
      "no          : 0.008\n",
      "between     : 0.008\n",
      "consume     : 0.008\n",
      "rot         : 0.008\n",
      "for         : 0.008\n",
      "left        : 0.008\n",
      "19          : 0.008\n",
      "30          : 0.008\n",
      "greater     : 0.008\n",
      "vermin      : 0.008\n",
      "grain       : 0.008\n",
      "STOCKS      : 0.008\n",
      "survey      : 0.008\n",
      "gave        : 0.008\n",
      "its         : 0.008\n",
      "in          : 0.008\n",
      "stocks      : 0.008\n",
      "showed      : 0.008\n",
      "each        : 0.008\n",
      "SAYS        : 0.008\n",
      "2.1         : 0.008\n",
      "national    : 0.008\n",
      "7-12        : 0.008\n",
      "year        : 0.008\n",
      "calling     : 0.008\n",
      "production  : 0.008\n",
      "A           : 0.008\n",
      "launched    : 0.008\n",
      "EAT         : 0.008\n",
      "that        : 0.008\n",
      "vegetables  : 0.008\n",
      "cities      : 0.008\n",
      "methods     : 0.008\n",
      "government  : 0.008\n",
      "CHINA       : 0.008\n",
      "DAILY       : 0.008\n",
      "PCT         : 0.008\n",
      "12          : 0.008\n",
      "a           : 0.008\n",
      "fruit       : 0.008\n",
      "reduce      : 0.008\n",
      "improved    : 0.008\n",
      "25          : 0.008\n",
      "up          : 0.008\n",
      "are         : 0.008\n",
      "programme   : 0.008\n",
      "further     : 0.008\n",
      "technology  : 0.008\n",
      "additives   : 0.008\n",
      "1.575       : 0.008\n",
      "inadequate  : 0.008\n",
      "had         : 0.008\n",
      "bad         : 0.008\n",
      "also        : 0.008\n",
      "VERMIN      : 0.008\n",
      "GRAIN       : 0.008\n",
      "provinces   : 0.008\n",
      "output      : 0.008\n",
      "details     : 0.008\n",
      "Daily       : 0.008\n"
     ]
    }
   ],
   "source": [
    "# Frequency table\n",
    "print('{0:12s}: {1}'.format('Term', 'Frequency'))\n",
    "print(25*'-')\n",
    "\n",
    "total = sum(counter.values())\n",
    "for w in counter.most_common(None):\n",
    "    print('{0:12s}: {1:4.3f}'.format(w[0], w[1]/total))"
   ]
  },
  {
   "cell_type": "markdown",
   "metadata": {},
   "source": [
    "# Bigram"
   ]
  },
  {
   "cell_type": "code",
   "execution_count": 10,
   "metadata": {
    "collapsed": false
   },
   "outputs": [],
   "source": [
    "# Generate bigram from the unigram\n",
    "pre_bigram = ngrams(unigram,2)\n",
    "# Store the output as a list\n",
    "bigram = list(pre_bigram)"
   ]
  },
  {
   "cell_type": "code",
   "execution_count": 11,
   "metadata": {
    "collapsed": false
   },
   "outputs": [
    {
     "data": {
      "text/plain": [
       "[('CHINA', 'DAILY'),\n",
       " ('DAILY', 'SAYS'),\n",
       " ('SAYS', 'VERMIN'),\n",
       " ('VERMIN', 'EAT'),\n",
       " ('EAT', '7-12'),\n",
       " ('7-12', 'PCT'),\n",
       " ('PCT', 'GRAIN'),\n",
       " ('GRAIN', 'STOCKS'),\n",
       " ('STOCKS', 'A'),\n",
       " ('A', 'survey')]"
      ]
     },
     "execution_count": 11,
     "metadata": {},
     "output_type": "execute_result"
    }
   ],
   "source": [
    "bigram[0:10]"
   ]
  },
  {
   "cell_type": "code",
   "execution_count": 20,
   "metadata": {
    "collapsed": false
   },
   "outputs": [
    {
     "name": "stdout",
     "output_type": "stream",
     "text": [
      "Term        : Frequency\n",
      "-------------------------\n",
      "('.', 'It')                   :0.016\n",
      "('China', \"'s\")               :0.016\n",
      "(',', 'of')                   :0.016\n",
      "(',', 'and')                  :0.016\n",
      "('pct', ',')                  :0.016\n",
      "('of', 'China')               :0.016\n",
      "('The', 'paper')              :0.016\n",
      "('storage', 'and')            :0.016\n",
      "('tonnes', ',')               :0.016\n",
      "(',', 'or')                   :0.016\n",
      "('.', 'The')                  :0.016\n",
      "('mln', 'tonnes')             :0.016\n",
      "('left', 'to')                :0.008\n",
      "('the', 'waste')              :0.008\n",
      "('reduce', 'waste')           :0.008\n",
      "('of', '19')                  :0.008\n",
      "('and', 'seven')              :0.008\n",
      "('in', 'storage')             :0.008\n",
      "('vegetables', '.')           :0.008\n",
      "('and', 'bad')                :0.008\n",
      "('vermin', 'consume')         :0.008\n",
      "('further', 'details')        :0.008\n",
      "('It', 'also')                :0.008\n",
      "('are', 'left')               :0.008\n",
      "('its', 'vegetables')         :0.008\n",
      "('national', 'programme')     :0.008\n",
      "('details', '.')              :0.008\n",
      "('Daily', 'said')             :0.008\n",
      "('and', '12')                 :0.008\n",
      "('improved', 'technology')    :0.008\n",
      "('launched', 'a')             :0.008\n",
      "('on', 'inadequate')          :0.008\n",
      "('to', 'rot')                 :0.008\n",
      "('GRAIN', 'STOCKS')           :0.008\n",
      "('survey', 'of')              :0.008\n",
      "('methods', '.')              :0.008\n",
      "('2.1', 'mln')                :0.008\n",
      "('of', 'additives')           :0.008\n",
      "('showed', 'vermin')          :0.008\n",
      "('cities', 'showed')          :0.008\n",
      "('said', '.')                 :0.008\n",
      "('consume', 'between')        :0.008\n",
      "('to', 'reduce')              :0.008\n",
      "('provinces', 'and')          :0.008\n",
      "(\"'s\", 'fruit')               :0.008\n",
      "('STOCKS', 'A')               :0.008\n",
      "('and', 'greater')            :0.008\n",
      "('preservation', ',')         :0.008\n",
      "('grain', 'stocks')           :0.008\n",
      "('between', 'seven')          :0.008\n",
      "('China', 'Daily')            :0.008\n",
      "('the', 'government')         :0.008\n",
      "('said', 'that')              :0.008\n",
      "('pct', 'of')                 :0.008\n",
      "('It', 'said')                :0.008\n",
      "('no', 'further')             :0.008\n",
      "('calling', 'for')            :0.008\n",
      "('that', 'each')              :0.008\n",
      "('DAILY', 'SAYS')             :0.008\n",
      "('fruit', 'output')           :0.008\n",
      "('7-12', 'PCT')               :0.008\n",
      "('bad', 'preservation')       :0.008\n",
      "('up', 'to')                  :0.008\n",
      "('output', 'are')             :0.008\n",
      "('30', 'pct')                 :0.008\n",
      "('paper', 'blamed')           :0.008\n",
      "('greater', 'production')     :0.008\n",
      "('or', 'up')                  :0.008\n",
      "('to', '30')                  :0.008\n",
      "('25', 'pct')                 :0.008\n",
      "('PCT', 'GRAIN')              :0.008\n",
      "('waste', ',')                :0.008\n",
      "('SAYS', 'VERMIN')            :0.008\n",
      "(',', 'the')                  :0.008\n",
      "('for', 'improved')           :0.008\n",
      "('stocks', ',')               :0.008\n",
      "('and', '2.1')                :0.008\n",
      "('each', 'year')              :0.008\n",
      "('of', 'its')                 :0.008\n",
      "('preservation', 'methods')   :0.008\n",
      "('the', 'China')              :0.008\n",
      "('additives', '.')            :0.008\n",
      "('programme', 'to')           :0.008\n",
      "('had', 'launched')           :0.008\n",
      "('1.575', 'mln')              :0.008\n",
      "('or', '25')                  :0.008\n",
      "('12', 'pct')                 :0.008\n",
      "('CHINA', 'DAILY')            :0.008\n",
      "('government', 'had')         :0.008\n",
      "('blamed', 'the')             :0.008\n",
      "('also', 'said')              :0.008\n",
      "('VERMIN', 'EAT')             :0.008\n",
      "('19', 'provinces')           :0.008\n",
      "('A', 'survey')               :0.008\n",
      "(\"'s\", 'grain')               :0.008\n",
      "('technology', 'in')          :0.008\n",
      "('production', 'of')          :0.008\n",
      "('seven', 'cities')           :0.008\n",
      "('paper', 'gave')             :0.008\n",
      "('waste', 'on')               :0.008\n",
      "('seven', 'and')              :0.008\n",
      "('inadequate', 'storage')     :0.008\n",
      "('EAT', '7-12')               :0.008\n",
      "('year', '1.575')             :0.008\n",
      "('a', 'national')             :0.008\n",
      "('said', 'the')               :0.008\n",
      "('gave', 'no')                :0.008\n",
      "('rot', ',')                  :0.008\n",
      "(',', 'calling')              :0.008\n",
      "('and', 'preservation')       :0.008\n"
     ]
    }
   ],
   "source": [
    "# Frequency table\n",
    "print('{0:12s}: {1}'.format('Term', 'Frequency'))\n",
    "print(25*'-')\n",
    "counter = cl.Counter(bigram)\n",
    "total = sum(counter.values())\n",
    "for w in counter.most_common(None):\n",
    "    print('{!s:30s}:{:4.3f}'.format(w[0],w[1]/total))"
   ]
  },
  {
   "cell_type": "code",
   "execution_count": 40,
   "metadata": {
    "collapsed": false
   },
   "outputs": [
    {
     "name": "stdout",
     "output_type": "stream",
     "text": [
      "Bigram that occurs at least 2 times together\n",
      "-------------------------\n",
      "[ ('The', 'paper'),\n",
      "  ('mln', 'tonnes'),\n",
      "  ('China', \"'s\"),\n",
      "  ('.', 'It'),\n",
      "  ('.', 'The'),\n",
      "  ('storage', 'and'),\n",
      "  ('of', 'China'),\n",
      "  (',', 'or'),\n",
      "  ('tonnes', ','),\n",
      "  ('pct', ',')]\n"
     ]
    }
   ],
   "source": [
    "# Bigram with high PMI\n",
    "from nltk.collocations import BigramCollocationFinder, BigramAssocMeasures\n",
    "top = 10\n",
    "bigram_measures = BigramAssocMeasures()\n",
    "finder = BigramCollocationFinder.from_words(unigram)\n",
    "# Define number of occurence\n",
    "gram_freq = 2\n",
    "finder.apply_freq_filter(gram_freq)\n",
    "bigram_PMI = finder.nbest(bigram_measures.pmi, top)\n",
    "ppf = pprint.PrettyPrinter(indent=2, depth=2, width=80, compact=False)\n",
    "print('Bigram that occurs at least {0} times together'.format(gram_freq))\n",
    "print(25*'-')\n",
    "ppf.pprint(bigram_PMI)"
   ]
  },
  {
   "cell_type": "markdown",
   "metadata": {},
   "source": [
    "# Trigram"
   ]
  },
  {
   "cell_type": "code",
   "execution_count": 23,
   "metadata": {
    "collapsed": true
   },
   "outputs": [],
   "source": [
    "pre_trigram = ngrams(unigram,3)\n",
    "# Store the output as a list\n",
    "trigram = list(pre_trigram)"
   ]
  },
  {
   "cell_type": "code",
   "execution_count": 24,
   "metadata": {
    "collapsed": false
   },
   "outputs": [
    {
     "data": {
      "text/plain": [
       "[('CHINA', 'DAILY', 'SAYS'),\n",
       " ('DAILY', 'SAYS', 'VERMIN'),\n",
       " ('SAYS', 'VERMIN', 'EAT'),\n",
       " ('VERMIN', 'EAT', '7-12'),\n",
       " ('EAT', '7-12', 'PCT'),\n",
       " ('7-12', 'PCT', 'GRAIN'),\n",
       " ('PCT', 'GRAIN', 'STOCKS'),\n",
       " ('GRAIN', 'STOCKS', 'A'),\n",
       " ('STOCKS', 'A', 'survey'),\n",
       " ('A', 'survey', 'of')]"
      ]
     },
     "execution_count": 24,
     "metadata": {},
     "output_type": "execute_result"
    }
   ],
   "source": [
    "trigram[0:10]"
   ]
  },
  {
   "cell_type": "code",
   "execution_count": 26,
   "metadata": {
    "collapsed": false
   },
   "outputs": [
    {
     "name": "stdout",
     "output_type": "stream",
     "text": [
      "Term        : Frequency\n",
      "-------------------------\n",
      "('.', 'The', 'paper')              :0.017\n",
      "('tonnes', ',', 'or')              :0.017\n",
      "('of', 'China', \"'s\")              :0.017\n",
      "('pct', ',', 'of')                 :0.017\n",
      "('mln', 'tonnes', ',')             :0.017\n",
      "('no', 'further', 'details')       :0.008\n",
      "('blamed', 'the', 'waste')         :0.008\n",
      "('preservation', 'methods', '.')   :0.008\n",
      "('reduce', 'waste', ',')           :0.008\n",
      "('7-12', 'PCT', 'GRAIN')           :0.008\n",
      "('the', 'government', 'had')       :0.008\n",
      "('further', 'details', '.')        :0.008\n",
      "('grain', 'stocks', ',')           :0.008\n",
      "('to', 'rot', ',')                 :0.008\n",
      "('VERMIN', 'EAT', '7-12')          :0.008\n",
      "('19', 'provinces', 'and')         :0.008\n",
      "(',', 'or', '25')                  :0.008\n",
      "('storage', 'and', 'bad')          :0.008\n",
      "('technology', 'in', 'storage')    :0.008\n",
      "('12', 'pct', 'of')                :0.008\n",
      "('methods', '.', 'It')             :0.008\n",
      "('Daily', 'said', '.')             :0.008\n",
      "('rot', ',', 'and')                :0.008\n",
      "('for', 'improved', 'technology')  :0.008\n",
      "('seven', 'cities', 'showed')      :0.008\n",
      "('stocks', ',', 'the')             :0.008\n",
      "('.', 'It', 'also')                :0.008\n",
      "('storage', 'and', 'preservation') :0.008\n",
      "('launched', 'a', 'national')      :0.008\n",
      "('survey', 'of', '19')             :0.008\n",
      "('The', 'paper', 'blamed')         :0.008\n",
      "('vermin', 'consume', 'between')   :0.008\n",
      "('between', 'seven', 'and')        :0.008\n",
      "('of', '19', 'provinces')          :0.008\n",
      "('It', 'also', 'said')             :0.008\n",
      "('said', '.', 'It')                :0.008\n",
      "('greater', 'production', 'of')    :0.008\n",
      "('and', '2.1', 'mln')              :0.008\n",
      "('the', 'waste', 'on')             :0.008\n",
      "('25', 'pct', ',')                 :0.008\n",
      "('and', 'bad', 'preservation')     :0.008\n",
      "('preservation', ',', 'and')       :0.008\n",
      "('year', '1.575', 'mln')           :0.008\n",
      "('China', 'Daily', 'said')         :0.008\n",
      "(',', 'or', 'up')                  :0.008\n",
      "('and', 'preservation', ',')       :0.008\n",
      "('seven', 'and', '12')             :0.008\n",
      "('of', 'additives', '.')           :0.008\n",
      "('bad', 'preservation', 'methods') :0.008\n",
      "('gave', 'no', 'further')          :0.008\n",
      "('and', 'seven', 'cities')         :0.008\n",
      "('1.575', 'mln', 'tonnes')         :0.008\n",
      "(',', 'of', 'its')                 :0.008\n",
      "('provinces', 'and', 'seven')      :0.008\n",
      "('EAT', '7-12', 'PCT')             :0.008\n",
      "('each', 'year', '1.575')          :0.008\n",
      "('.', 'It', 'said')                :0.008\n",
      "('showed', 'vermin', 'consume')    :0.008\n",
      "('to', '30', 'pct')                :0.008\n",
      "(\"'s\", 'fruit', 'output')          :0.008\n",
      "(\"'s\", 'grain', 'stocks')          :0.008\n",
      "('A', 'survey', 'of')              :0.008\n",
      "('pct', 'of', 'China')             :0.008\n",
      "('the', 'China', 'Daily')          :0.008\n",
      "('DAILY', 'SAYS', 'VERMIN')        :0.008\n",
      "('SAYS', 'VERMIN', 'EAT')          :0.008\n",
      "('2.1', 'mln', 'tonnes')           :0.008\n",
      "('a', 'national', 'programme')     :0.008\n",
      "('of', 'its', 'vegetables')        :0.008\n",
      "('production', 'of', 'additives')  :0.008\n",
      "('paper', 'blamed', 'the')         :0.008\n",
      "('waste', 'on', 'inadequate')      :0.008\n",
      "('The', 'paper', 'gave')           :0.008\n",
      "('are', 'left', 'to')              :0.008\n",
      "('said', 'that', 'each')           :0.008\n",
      "('CHINA', 'DAILY', 'SAYS')         :0.008\n",
      "('and', '12', 'pct')               :0.008\n",
      "('government', 'had', 'launched')  :0.008\n",
      "('that', 'each', 'year')           :0.008\n",
      "('also', 'said', 'that')           :0.008\n",
      "(',', 'calling', 'for')            :0.008\n",
      "('output', 'are', 'left')          :0.008\n",
      "('in', 'storage', 'and')           :0.008\n",
      "('national', 'programme', 'to')    :0.008\n",
      "('30', 'pct', ',')                 :0.008\n",
      "('had', 'launched', 'a')           :0.008\n",
      "('China', \"'s\", 'fruit')           :0.008\n",
      "('cities', 'showed', 'vermin')     :0.008\n",
      "('inadequate', 'storage', 'and')   :0.008\n",
      "('additives', '.', 'The')          :0.008\n",
      "('to', 'reduce', 'waste')          :0.008\n",
      "('or', '25', 'pct')                :0.008\n",
      "(',', 'of', 'China')               :0.008\n",
      "('or', 'up', 'to')                 :0.008\n",
      "('China', \"'s\", 'grain')           :0.008\n",
      "('on', 'inadequate', 'storage')    :0.008\n",
      "(',', 'and', '2.1')                :0.008\n",
      "('consume', 'between', 'seven')    :0.008\n",
      "(',', 'the', 'China')              :0.008\n",
      "('waste', ',', 'calling')          :0.008\n",
      "('said', 'the', 'government')      :0.008\n",
      "('programme', 'to', 'reduce')      :0.008\n",
      "('It', 'said', 'the')              :0.008\n",
      "('paper', 'gave', 'no')            :0.008\n",
      "('STOCKS', 'A', 'survey')          :0.008\n",
      "('its', 'vegetables', '.')         :0.008\n",
      "(',', 'and', 'greater')            :0.008\n",
      "('vegetables', '.', 'The')         :0.008\n",
      "('fruit', 'output', 'are')         :0.008\n",
      "('and', 'greater', 'production')   :0.008\n",
      "('GRAIN', 'STOCKS', 'A')           :0.008\n",
      "('improved', 'technology', 'in')   :0.008\n",
      "('up', 'to', '30')                 :0.008\n",
      "('calling', 'for', 'improved')     :0.008\n",
      "('PCT', 'GRAIN', 'STOCKS')         :0.008\n",
      "('left', 'to', 'rot')              :0.008\n"
     ]
    }
   ],
   "source": [
    "# Frequency table\n",
    "print('{0:12s}: {1}'.format('Term', 'Frequency'))\n",
    "print(25*'-')\n",
    "counter = cl.Counter(trigram)\n",
    "total = sum(counter.values())\n",
    "for w in counter.most_common(None):\n",
    "    print('{!s:35s}:{:4.3f}'.format(w[0],w[1]/total))"
   ]
  },
  {
   "cell_type": "code",
   "execution_count": 41,
   "metadata": {
    "collapsed": false
   },
   "outputs": [
    {
     "name": "stdout",
     "output_type": "stream",
     "text": [
      "Trigram that occurs at least 2 times together\n",
      "-------------------------\n",
      "[ ('.', 'The', 'paper'),\n",
      "  ('of', 'China', \"'s\"),\n",
      "  ('mln', 'tonnes', ','),\n",
      "  ('tonnes', ',', 'or'),\n",
      "  ('pct', ',', 'of')]\n"
     ]
    }
   ],
   "source": [
    "from nltk.collocations import TrigramAssocMeasures, TrigramCollocationFinder\n",
    "top = 10\n",
    "trigram_measures = TrigramAssocMeasures()\n",
    "finder = TrigramCollocationFinder.from_words(unigram)\n",
    "# Define number of occurence\n",
    "gram_freq = 2\n",
    "finder.apply_freq_filter(gram_freq)\n",
    "trigram_PMI = finder.nbest(trigram_measures.pmi, top)\n",
    "ppf = pprint.PrettyPrinter(indent=2, depth=2, width=80, compact=False)\n",
    "print('Trigram that occurs at least {0} times together'.format(gram_freq))\n",
    "print(25*'-')\n",
    "ppf.pprint(trigram_PMI)"
   ]
  },
  {
   "cell_type": "markdown",
   "metadata": {
    "collapsed": true
   },
   "source": [
    "# Regex for Tokenization"
   ]
  },
  {
   "cell_type": "code",
   "execution_count": 46,
   "metadata": {
    "collapsed": false
   },
   "outputs": [],
   "source": [
    "text1 = 'John\\'s pie, Mike could\\'ve said, is good. Isn\\'t it?!; Note: (217)-898-6825.' "
   ]
  },
  {
   "cell_type": "code",
   "execution_count": 47,
   "metadata": {
    "collapsed": true
   },
   "outputs": [],
   "source": [
    "text2 ='I claimed:\"Mike\\'s regex is perfect!\". I-L-L I-N-I.'"
   ]
  },
  {
   "cell_type": "code",
   "execution_count": 56,
   "metadata": {
    "collapsed": true
   },
   "outputs": [],
   "source": [
    "text3 = 'I said:\"Now is 24/3/2016, 2:07AM. Go to bed process: completed 99.9%.\" (aka. Tired)'"
   ]
  },
  {
   "cell_type": "code",
   "execution_count": 60,
   "metadata": {
    "collapsed": true
   },
   "outputs": [],
   "source": [
    "text4 = 'Lol. Can you take care of this.....No idea'"
   ]
  },
  {
   "cell_type": "code",
   "execution_count": 50,
   "metadata": {
    "collapsed": false
   },
   "outputs": [
    {
     "name": "stdout",
     "output_type": "stream",
     "text": [
      "John's pie, Mike could've said, is good. Isn't it?!; Note: (217)-898-6825.\n",
      "I claimed:\"Mike's regex is perfect!\". I-L-L I-N-I.\n",
      "I said:\"Now is 24/3/2016, 2:07AM. My sleepiness level is 9-9.9%.\" (aka. Tired)\n",
      "Lol. Can you take care of this***......\n"
     ]
    }
   ],
   "source": [
    "print(text1)\n",
    "print(text2)\n",
    "print(text3)\n",
    "print(text4)"
   ]
  },
  {
   "cell_type": "code",
   "execution_count": 51,
   "metadata": {
    "collapsed": true
   },
   "outputs": [],
   "source": [
    "pattern = re.compile(\n",
    "    r\"\"\"(\\:\")|(\\:[\\s])| # Complementary situation of colon serving as separator in time\n",
    "    (\\([^\\d+])|(\\)[^\\-])| # Remove parenthesis if that is not used as useful meaning like indication of area code in phone number\n",
    "    (\\.[^\\d+])| # Remove the dot for the cases where there is no numbers after that dot (AKA. that is not a floating number)\n",
    "    [^\\w\\s\\-(\\w\\'\\w)(\\d+\\:\\d+)(\\d/\\d)(\\.\\d+)] # Match anything that is not one of these patterns\n",
    "    \"\"\",re.VERBOSE)"
   ]
  },
  {
   "cell_type": "code",
   "execution_count": 52,
   "metadata": {
    "collapsed": false
   },
   "outputs": [
    {
     "data": {
      "text/plain": [
       "\"John's pie$ Mike could've said$ is good$Isn't it$$$ Note$(217)-898-6825.\""
      ]
     },
     "execution_count": 52,
     "metadata": {},
     "output_type": "execute_result"
    }
   ],
   "source": [
    "re.sub(pattern, '$', text1)"
   ]
  },
  {
   "cell_type": "code",
   "execution_count": 53,
   "metadata": {
    "collapsed": false
   },
   "outputs": [
    {
     "data": {
      "text/plain": [
       "\"I claimed$Mike's regex is perfect$$$I-L-L I-N-I.\""
      ]
     },
     "execution_count": 53,
     "metadata": {},
     "output_type": "execute_result"
    }
   ],
   "source": [
    "re.sub(pattern, '$', text2)"
   ]
  },
  {
   "cell_type": "code",
   "execution_count": 57,
   "metadata": {
    "collapsed": false
   },
   "outputs": [
    {
     "data": {
      "text/plain": [
       "'I said$Now is 24/3/2016$ 2:07AM$Go to bed process$completed 99.9$$ $ka$Tired)'"
      ]
     },
     "execution_count": 57,
     "metadata": {},
     "output_type": "execute_result"
    }
   ],
   "source": [
    "re.sub(pattern, '$', text3)"
   ]
  },
  {
   "cell_type": "code",
   "execution_count": 61,
   "metadata": {
    "collapsed": false
   },
   "outputs": [
    {
     "data": {
      "text/plain": [
       "'Lol$Can you take care of this$$$o idea'"
      ]
     },
     "execution_count": 61,
     "metadata": {},
     "output_type": "execute_result"
    }
   ],
   "source": [
    "re.sub(pattern, '$', text4)"
   ]
  },
  {
   "cell_type": "code",
   "execution_count": null,
   "metadata": {
    "collapsed": false
   },
   "outputs": [],
   "source": []
  },
  {
   "cell_type": "code",
   "execution_count": null,
   "metadata": {
    "collapsed": true
   },
   "outputs": [],
   "source": []
  }
 ],
 "metadata": {
  "kernelspec": {
   "display_name": "Python 3",
   "language": "python",
   "name": "python3"
  },
  "language_info": {
   "codemirror_mode": {
    "name": "ipython",
    "version": 3
   },
   "file_extension": ".py",
   "mimetype": "text/x-python",
   "name": "python",
   "nbconvert_exporter": "python",
   "pygments_lexer": "ipython3",
   "version": "3.4.3"
  }
 },
 "nbformat": 4,
 "nbformat_minor": 0
}
